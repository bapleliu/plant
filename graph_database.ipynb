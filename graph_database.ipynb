{
 "cells": [
  {
   "cell_type": "markdown",
   "metadata": {},
   "source": [
    "提取每行文字标记信息的函数，返回[(tag,text),(tag,text)]的list"
   ]
  },
  {
   "cell_type": "code",
   "execution_count": 39,
   "metadata": {},
   "outputs": [],
   "source": [
    "import re\n",
    "def extract(string):\n",
    "    #提取标记属性和相应的值\n",
    "    labels=re.findall(r'<([a-z]*?)>(.*?)</[a-z]*?>',string)\n",
    "    #对属性、值、单位、组合进行修改\n",
    "    test=list(labels) #后续要对列表labels进行修改，复制成test用for语句进行遍历\n",
    "    step=0\n",
    "    for i in range(0,len(test)): #将属性、值、单位组合成属性、值\n",
    "        if test[i][0]==\"danwei\":\n",
    "            labels[i-1-step]=(\"zhi\",labels[i-1-step][1]+labels[i-step][1])\n",
    "            del labels[i-step]\n",
    "            step+=1\n",
    "            \n",
    "    trait=re.compile(r\"^(长|宽|高|([直|胸]?径)|粗|厚)((达|约|近|仅|(不及)|(不足)|(可达))?[0-9-\\.]*[厘|毫]?米)\")\n",
    "    \n",
    "    test=list(labels) #labels已经过修改，将labels再备份一次\n",
    "    step=0\n",
    "    for i in range(0,len(test)): #将组合拆成属性、值\n",
    "        if test[i][0]==\"zuhe\":\n",
    "            traits=re.findall(trait,test[i][1])\n",
    "            labels[i+step]=(\"sx\",traits[0][0])\n",
    "            labels.insert(i+1+step,(\"zhi\",traits[0][2]))\n",
    "            step+=1\n",
    "    \n",
    "    test=list(labels) \n",
    "    step=0\n",
    "    for i in range(0,len(test)):\n",
    "        if test[i][0]==\"sx\" and test[i+1][0]==\"sx\": #一句话描述多重属性的情况\n",
    "            labels.insert(i+1+step,(\"zhi\",test[i+2+step][1]))\n",
    "            step+=1\n",
    "            \n",
    "    #增加描述项，修改双重tag\n",
    "    tag=re.compile(r'<[a-z/]*?>' )\n",
    "    if labels!=[]:\n",
    "        if labels[0][0]==\"qiguan\": #如果是器官的描述行\n",
    "            #删除所有注释，作为description\n",
    "            d=tag.sub('',string) \n",
    "            #将description加入fields中\n",
    "            labels.append(('description',d))\n",
    "        if tag.findall(labels[0][1]): #如果有双重tag,fields[0][1]中会有<tag>text</tag>的形式\n",
    "            newfield=re.findall(r'<([a-z]*?)>(.*)',labels[0][1])\n",
    "            labels.append(newfield[0])\n",
    "            labels[0]=(labels[0][0],tag.sub('',labels[0][1]))       \n",
    "    return labels"
   ]
  },
  {
   "cell_type": "markdown",
   "metadata": {},
   "source": [
    "将文件中提取出的fields按species和subspecies分割"
   ]
  },
  {
   "cell_type": "code",
   "execution_count": 46,
   "metadata": {},
   "outputs": [],
   "source": [
    "from py2neo import Node,Relationship,Graph\n",
    "def cutfiles(file):\n",
    "    f = open(file,\"r\", encoding='UTF-8') \n",
    "    #将所有tag及text提取并存入列表allfields中\n",
    "    allfields=[]\n",
    "    for line in f:\n",
    "        fields=extract(line)\n",
    "        if fields!=[]:\n",
    "            allfields.append(fields)\n",
    "    #将allfields按species和subspecies分割\n",
    "    nums=[] #用来储存subsepecies的序号\n",
    "    subspecies_fields=[]\n",
    "    for i in range(0,len(allfields)):\n",
    "        if allfields[i][0][0]==\"subspecies\":\n",
    "            nums.append(i)\n",
    "    if nums!=[]:\n",
    "        species_fields=allfields[0:nums[0]]\n",
    "        subspecies_fields.append(allfields[nums[-1]:len(allfields)])\n",
    "        if len(nums)>1:\n",
    "            for i in range(0,len(nums)-1):\n",
    "                subspecies_fields.append(allfields[nums[i]:nums[i+1]])\n",
    "    else:\n",
    "        species_fields=allfields\n",
    "    \n",
    "    \n",
    "    return species_fields,subspecies_fields"
   ]
  },
  {
   "cell_type": "markdown",
   "metadata": {},
   "source": [
    "为物种节点添加属性和子节点\n",
    "node对应于species_node或者subspecies_node\n",
    "fields对应于species_fields或者subspecies_fields[i]"
   ]
  },
  {
   "cell_type": "code",
   "execution_count": 3,
   "metadata": {},
   "outputs": [],
   "source": [
    "from py2neo import Node,Relationship,Graph\n",
    "def add_species_nodes(node,fields):         \n",
    "    for s in range(0,len(fields)):\n",
    "        #物种节点添加属性和从属的器官节点\n",
    "        if fields[s][0][0]==\"species\": \n",
    "            #添加中文名属性\n",
    "            node[\"中文学名\"]=fields[s][0][1]\n",
    "            #如果有异名tag，添加异名属性\n",
    "            if fields[s][1][0]==\"yiming\":\n",
    "                synonyms=[]\n",
    "                for i in range(1,len(fields[s])):\n",
    "                    synonyms.append(fields[s][i][1])\n",
    "                    node[\"异名\"]=synonyms\n",
    "        if fields[s][0][0]==\"lifeform\": #有生活型tag的行\n",
    "            #添加生活型属性\n",
    "            node[\"生活型\"]=fields[s][0][1]\n",
    "            #如果有性状tag，添加性状属性\n",
    "            if len(fields[s])>1:\n",
    "                for i in range(1,len(fields[s])):\n",
    "                    if fields[s][i][0]==\"sx\":\n",
    "                        node[fields[s][i][1]]=fields[s][i+1][1]\n",
    "        if fields[s][0][0]==\"sj\": \n",
    "            node[\"生境\"]=fields[s][0][1]\n",
    "        if fields[s][0][0]==\"fenbu\": \n",
    "            node[\"国内分布\"]=fields[s][0][1]\n",
    "        if fields[s][0][0]==\"guowaifenbu\": \n",
    "            node[\"国外分布\"]=fields[s][0][1]\n",
    "        if re.match(r\"[hg]u[ao]qi\",fields[s][0][0])!=None:#有花期/果期tag的行\n",
    "            for i in range(0,len(fields[s])): \n",
    "                if fields[s][i][0]==\"guoqi\": \n",
    "                    node[\"果期\"]=fields[s][i][1]\n",
    "                if fields[s][i][0]==\"huaqi\": \n",
    "                    node[\"花期\"]=fields[s][i][1]\n",
    "        if fields[s][0][0]==\"qiguan\":#有器官tag的行，创建器官节点\n",
    "            n=len(fields[s])\n",
    "            organ_node = Node(\"器官\",名称 = fields[s][0][1],原文 = fields[s][n-1][1])\n",
    "            r=Relationship(organ_node, \"属于\", node)\n",
    "            for i in range(1,len(fields[s])):\n",
    "                if fields[s][i][0]==\"sx\":\n",
    "                    organ_node[fields[s][i][1]]=fields[s][i+1][1]\n",
    "            graph_plants.create(organ_node|r|node)\n",
    "            for i in range(1,len(fields[s])):\n",
    "                if fields[s][i][0]==\"器官\":\n",
    "                    organ_node2 = Node(\"器官\",名称 = fields[s][i][1],原文 = fields[s][n-1][1])\n",
    "                    r2=Relationship(organ_node2, \"属于\", node)\n",
    "                    graph_plants.create(organ_node2|r2|node)\n",
    "    graph_plants.push(node) #更新节点\n"
   ]
  },
  {
   "cell_type": "code",
   "execution_count": null,
   "metadata": {},
   "outputs": [],
   "source": [
    "为亚种节点添加属性和子节点"
   ]
  },
  {
   "cell_type": "code",
   "execution_count": 4,
   "metadata": {},
   "outputs": [],
   "source": [
    "from py2neo import Node,Relationship,Graph\n",
    "def add_subspecies_nodes(node,fields):         \n",
    "    for s in range(0,len(fields)):\n",
    "        #亚种节点添加属性和从属的器官节点\n",
    "        if fields[s][0][0]==\"subspecies\": \n",
    "            #创建亚种节点\n",
    "            subspecies_node=Node(\"亚种\",中文学名 = fields[s][0][1])\n",
    "            #添加异名和拉丁名属性\n",
    "            synonyms=[]\n",
    "            for i in range(1,len(fields[s])):\n",
    "                if fields[s][i][0]==\"yiming\":\n",
    "                    synonyms.append(fields[s][i][1])\n",
    "                if fields[s][i][0]==\"latin\":\n",
    "                    latinname=node[\"拉丁学名\"]+\" \"+fields[s][i][1]\n",
    "            if synonyms!=[]:\n",
    "                subspecies_node[\"异名\"]=synonyms\n",
    "            subspecies_node[\"拉丁学名\"]=latinname\n",
    "            \n",
    "        if fields[s][0][0]==\"lifeform\": #有生活型tag的行\n",
    "            #添加生活型属性\n",
    "            subspecies_node[\"生活型\"]=fields[s][0][1]\n",
    "            #如果有性状tag，添加性状属性\n",
    "            if len(fields[s])>1:\n",
    "                for i in range(1,len(fields[s])):\n",
    "                    if fields[s][i][0]==\"sx\":\n",
    "                        subspecies_node[fields[s][i][1]]=fields[s][i+1][1]\n",
    "        if fields[s][0][0]==\"sj\": \n",
    "            subspecies_node[\"生境\"]=fields[s][0][1]\n",
    "        if fields[s][0][0]==\"fenbu\": \n",
    "            subspecies_node[\"国内分布\"]=fields[s][0][1]\n",
    "        if fields[s][0][0]==\"guowaifenbu\": \n",
    "            subspecies_node[\"国外分布\"]=fields[s][0][1]\n",
    "        if re.match(r\"[hg]u[ao]qi\",fields[s][0][0])!=None:#有花期/果期tag的行\n",
    "            for i in range(0,len(fields[s])): \n",
    "                if fields[s][i][0]==\"guoqi\": \n",
    "                    subspecies_node[\"果期\"]=fields[s][i][1]\n",
    "                if fields[s][i][0]==\"huaqi\": \n",
    "                    subspecies_node[\"花期\"]=fields[s][i][1]\n",
    "        if fields[s][0][0]==\"qiguan\":#有器官tag的行，创建器官节点\n",
    "            n=len(fields[s])\n",
    "            organ_node = Node(\"器官\",名称 = fields[s][0][1],原文 = fields[s][n-1][1])\n",
    "            r=Relationship(organ_node, \"属于\", subspecies_node)\n",
    "            for i in range(1,len(fields[s])):\n",
    "                if fields[s][i][0]==\"sx\":\n",
    "                    organ_node[fields[s][i][1]]=fields[s][i+1][1]\n",
    "            graph_plants.create(organ_node|r|subspecies_node)\n",
    "            for i in range(1,len(fields[s])): #一句话描述两种器官的情况\n",
    "                if fields[s][i][0]==\"器官\":\n",
    "                    organ_node2 = Node(\"器官\",名称 = fields[s][i][1],原文 = fields[s][n-1][1])\n",
    "                    r2=Relationship(organ_node2, \"属于\", subspecies_node)\n",
    "                    graph_plants.create(organ_node2|r2|subspecies_node)\n",
    "    graph_plants.push(subspecies_node) #更新节点\n",
    "    r=Relationship(subspecies_node, \"从属于\", node) #建立亚种-[从属于]->物种的关系\n",
    "    graph_plants.create(r)"
   ]
  },
  {
   "cell_type": "markdown",
   "metadata": {},
   "source": [
    "打开文件，创建物种节点及相关属性、子节点"
   ]
  },
  {
   "cell_type": "code",
   "execution_count": 43,
   "metadata": {},
   "outputs": [],
   "source": [
    "import os\n",
    "from py2neo import Node,Relationship,Graph\n",
    "def species(file):\n",
    "    #从文件路径获取文件名\n",
    "    filename=os.path.split(file)[1]\n",
    "    #从文件名获取物种拉丁名\n",
    "    latinname= os.path.splitext(filename)[0].replace(\"%20\",\" \")\n",
    "    #创建物种节点，添加拉丁名属性\n",
    "    species_node = Node(\"物种\",拉丁学名 = latinname)\n",
    "    species_fields=cutfiles(file)[0]\n",
    "    subspecies_fields=cutfiles(file)[1]\n",
    "    \n",
    "    add_species_nodes(species_node,species_fields)\n",
    "    \n",
    "    if len(subspecies_fields)>0:\n",
    "        for fields in subspecies_fields:\n",
    "            add_subspecies_nodes(species_node,fields)"
   ]
  },
  {
   "cell_type": "markdown",
   "metadata": {},
   "source": [
    "运行Neo4j，新建graph"
   ]
  },
  {
   "cell_type": "code",
   "execution_count": 6,
   "metadata": {},
   "outputs": [],
   "source": [
    "from py2neo import Graph\n",
    "graph_plants = Graph(\"http://localhost:7474/db/data/\")"
   ]
  },
  {
   "cell_type": "code",
   "execution_count": null,
   "metadata": {},
   "outputs": [],
   "source": [
    "GUI界面，选择文件，导入Neo4j"
   ]
  },
  {
   "cell_type": "code",
   "execution_count": null,
   "metadata": {},
   "outputs": [],
   "source": [
    "from tkinter import * \n",
    "import tkinter.filedialog \n",
    "root = Tk() \n",
    "def import_window(): \n",
    "    filename = tkinter.filedialog.askopenfilename() \n",
    "    if filename != '':        \n",
    "        species(filename)\n",
    "        lb.config(text = \"您选择的文件是：\"+filename); \n",
    "        lb.config(text = \"文件内容已导入Neo4j\");\n",
    "    else: \n",
    "        lb.config(text = \"您没有选择任何文件\"); \n",
    "lb = Label(root,text = '') \n",
    "lb.pack() \n",
    "btn = Button(root,text=\"选择文件\",command=import_window) \n",
    "btn.pack() \n",
    "root.mainloop()\n"
   ]
  },
  {
   "cell_type": "code",
   "execution_count": null,
   "metadata": {},
   "outputs": [],
   "source": []
  }
 ],
 "metadata": {
  "kernelspec": {
   "display_name": "Python [conda env:py3]",
   "language": "python",
   "name": "conda-env-py3-py"
  },
  "language_info": {
   "codemirror_mode": {
    "name": "ipython",
    "version": 3
   },
   "file_extension": ".py",
   "mimetype": "text/x-python",
   "name": "python",
   "nbconvert_exporter": "python",
   "pygments_lexer": "ipython3",
   "version": "3.7.0"
  }
 },
 "nbformat": 4,
 "nbformat_minor": 2
}
